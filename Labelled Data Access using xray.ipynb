{
 "cells": [
  {
   "cell_type": "markdown",
   "metadata": {},
   "source": [
    "# Easy data access and manipulation using *xray*\n",
    "----\n",
    "\n",
    "*xray* is a library which allows you to access multi-dimensional, labelled\n",
    "data in a easy manner.\n",
    "\n",
    "It makes most calculations we do in our day-to-day work a matter of a few lines.\n",
    "\n",
    "*xray* depends on netCDF4 (discussed last time) to , so install that before!"
   ]
  },
  {
   "cell_type": "code",
   "execution_count": 1,
   "metadata": {
    "collapsed": true
   },
   "outputs": [],
   "source": [
    "import xray\n",
    "\n",
    "dataset = xray.open_dataset('/data/MonthlyFields/uWinds.nc')"
   ]
  },
  {
   "cell_type": "markdown",
   "metadata": {},
   "source": [
    "*xray* allows you to use labels to access data instead of numerical indices. This makes your analysis much easier to read for a person who has not seen it before.\n",
    "\n",
    "## Two kinds of objects in *xray*\n",
    "\n",
    "*xray* contains two kinds of objects: **Dataset** and **DataArray**\n",
    "\n",
    "**Dataset** represents an open file, while **DataArray** represents the data extracted\n",
    "from a file."
   ]
  },
  {
   "cell_type": "code",
   "execution_count": 2,
   "metadata": {
    "collapsed": false
   },
   "outputs": [
    {
     "name": "stdout",
     "output_type": "stream",
     "text": [
      "<xray.Dataset>\n",
      "Dimensions:    (latitude: 241, level: 6, longitude: 480, time: 432)\n",
      "Coordinates:\n",
      "  * longitude  (longitude) float32 0.0 0.75 1.5 2.25 3.0 3.75 4.5 5.25 6.0 6.75 7.5 8.25 ...\n",
      "  * latitude   (latitude) float32 90.0 89.25 88.5 87.75 87.0 86.25 85.5 84.75 84.0 83.25 ...\n",
      "  * level      (level) int32 100 150 200 300 500 700\n",
      "  * time       (time) datetime64[ns] 1979-01-01 1979-02-01 1979-03-01 1979-04-01 ...\n",
      "Data variables:\n",
      "    u          (time, level, latitude, longitude) float64 -9.486 -9.621 -9.756 -9.889 ...\n",
      "Attributes:\n",
      "    Conventions: CF-1.0\n",
      "    history: 2015-01-23 03:06:51 GMT by grib_to_netcdf-1.12.3: grib_to_netcdf /data/data01/netcdf-web221-20150123030414-21936-4167.target -o /data/data01/netcdf-web221-20150123030641-21936-4168.nc\n"
     ]
    }
   ],
   "source": [
    "print dataset"
   ]
  },
  {
   "cell_type": "markdown",
   "metadata": {},
   "source": [
    "We can also access each variable in the file by its name..."
   ]
  },
  {
   "cell_type": "code",
   "execution_count": 4,
   "metadata": {
    "collapsed": false
   },
   "outputs": [
    {
     "name": "stdout",
     "output_type": "stream",
     "text": [
      "<xray.DataArray 'u' (time: 432, level: 6, latitude: 241, longitude: 480)>\n",
      "[299842560 values with dtype=float64]\n",
      "Coordinates:\n",
      "  * latitude   (latitude) float32 90.0 89.25 88.5 87.75 87.0 86.25 85.5 84.75 84.0 83.25 ...\n",
      "  * time       (time) datetime64[ns] 1979-01-01 1979-02-01 1979-03-01 1979-04-01 ...\n",
      "  * longitude  (longitude) float32 0.0 0.75 1.5 2.25 3.0 3.75 4.5 5.25 6.0 6.75 7.5 8.25 ...\n",
      "  * level      (level) int32 100 150 200 300 500 700\n",
      "Attributes:\n",
      "    units: m s**-1\n",
      "    long_name: U component of wind\n",
      "    standard_name: eastward_wind\n"
     ]
    }
   ],
   "source": [
    "winds = dataset.u\n",
    "print winds"
   ]
  },
  {
   "cell_type": "markdown",
   "metadata": {},
   "source": [
    "We can then read data using labels..."
   ]
  },
  {
   "cell_type": "code",
   "execution_count": 7,
   "metadata": {
    "collapsed": false
   },
   "outputs": [
    {
     "data": {
      "text/plain": [
       "<xray.DataArray 'u' (time: 25, level: 6, latitude: 241, longitude: 480)>\n",
       "[17352000 values with dtype=float64]\n",
       "Coordinates:\n",
       "  * latitude   (latitude) float32 90.0 89.25 88.5 87.75 87.0 86.25 85.5 84.75 84.0 83.25 ...\n",
       "  * time       (time) datetime64[ns] 1980-04-01 1980-05-01 1980-06-01 1980-07-01 ...\n",
       "  * longitude  (longitude) float32 0.0 0.75 1.5 2.25 3.0 3.75 4.5 5.25 6.0 6.75 7.5 8.25 ...\n",
       "  * level      (level) int32 100 150 200 300 500 700\n",
       "Attributes:\n",
       "    units: m s**-1\n",
       "    long_name: U component of wind\n",
       "    standard_name: eastward_wind"
      ]
     },
     "execution_count": 7,
     "metadata": {},
     "output_type": "execute_result"
    }
   ],
   "source": [
    "winds.loc['1980-3-5':'1982-4-4']"
   ]
  },
  {
   "cell_type": "markdown",
   "metadata": {},
   "source": [
    "to select more than one dimension, send in a dictionary..."
   ]
  },
  {
   "cell_type": "code",
   "execution_count": 9,
   "metadata": {
    "collapsed": false
   },
   "outputs": [
    {
     "data": {
      "text/plain": [
       "<xray.DataArray 'u' (time: 25, level: 3, latitude: 107, longitude: 94)>\n",
       "[754350 values with dtype=float64]\n",
       "Coordinates:\n",
       "  * latitude   (latitude) float32 39.75 39.0 38.25 37.5 36.75 36.0 35.25 34.5 33.75 33.0 ...\n",
       "  * time       (time) datetime64[ns] 1980-04-01 1980-05-01 1980-06-01 1980-07-01 ...\n",
       "  * longitude  (longitude) float32 30.0 30.75 31.5 32.25 33.0 33.75 34.5 35.25 36.0 36.75 ...\n",
       "  * level      (level) int32 200 300 500\n",
       "Attributes:\n",
       "    units: m s**-1\n",
       "    long_name: U component of wind\n",
       "    standard_name: eastward_wind"
      ]
     },
     "execution_count": 9,
     "metadata": {},
     "output_type": "execute_result"
    }
   ],
   "source": [
    "selection = {}\n",
    "selection['time'] = slice('1980-3-5','1982-4-4')\n",
    "selection['latitude'] = slice(40,-40)\n",
    "selection['longitude'] = slice(30,100)\n",
    "selection['level'] = slice(200,500)\n",
    "\n",
    "winds.loc[selection]"
   ]
  },
  {
   "cell_type": "markdown",
   "metadata": {},
   "source": [
    "Writing to an nc file is also easy! If it is a **DataArray**, we first convert it to a **Dataset** and then write to an nc file."
   ]
  },
  {
   "cell_type": "code",
   "execution_count": 12,
   "metadata": {
    "collapsed": false
   },
   "outputs": [],
   "source": [
    "winds.loc[selection].to_dataset().to_netcdf('/home/joymm/test.nc')"
   ]
  },
  {
   "cell_type": "markdown",
   "metadata": {},
   "source": [
    "## directly available functions\n",
    "\n",
    "Both **Dataset** and **DataArray** support the basic functions:\n",
    "\n",
    "* mean\n",
    "* variance\n",
    "* standard deviation\n",
    "* product\n",
    "* sum\n",
    "* press winds.[TAB] to see all!\n",
    "\n",
    "All basic functions take an optional argument specifying which coordinate\n",
    "to work over.\n",
    "\n",
    "## groupby\n",
    "\n",
    "This is a powerful function, which allows you to use the basic\n",
    "functions in a more sophisticated manner.\n",
    "\n",
    "For example, if we want to calculate monthly climatology,"
   ]
  },
  {
   "cell_type": "code",
   "execution_count": 15,
   "metadata": {
    "collapsed": true
   },
   "outputs": [],
   "source": [
    "clim = winds.groupby('time.month').mean(dim='time')"
   ]
  },
  {
   "cell_type": "code",
   "execution_count": 20,
   "metadata": {
    "collapsed": false
   },
   "outputs": [
    {
     "data": {
      "text/plain": [
       "Coordinates:\n",
       "  * level      (level) int32 100 150 200 300 500 700\n",
       "  * longitude  (longitude) float32 0.0 0.75 1.5 2.25 3.0 3.75 4.5 5.25 6.0 6.75 7.5 8.25 ...\n",
       "  * month      (month) int64 1 2 3 4 5 6 7 8 9 10 11 12\n",
       "  * latitude   (latitude) float32 90.0 89.25 88.5 87.75 87.0 86.25 85.5 84.75 84.0 83.25 ..."
      ]
     },
     "execution_count": 20,
     "metadata": {},
     "output_type": "execute_result"
    }
   ],
   "source": [
    "clim.coords"
   ]
  },
  {
   "cell_type": "markdown",
   "metadata": {},
   "source": [
    "And then easily calculate monthly anomalies"
   ]
  },
  {
   "cell_type": "code",
   "execution_count": 21,
   "metadata": {
    "collapsed": true
   },
   "outputs": [],
   "source": [
    "monthlyAnom = winds.groupby('time.month') - clim"
   ]
  },
  {
   "cell_type": "code",
   "execution_count": 23,
   "metadata": {
    "collapsed": false
   },
   "outputs": [
    {
     "name": "stdout",
     "output_type": "stream",
     "text": [
      "Coordinates:\n",
      "  * latitude   (latitude) float32 90.0 89.25 88.5 87.75 87.0 86.25 85.5 84.75 84.0 83.25 ...\n",
      "  * longitude  (longitude) float32 0.0 0.75 1.5 2.25 3.0 3.75 4.5 5.25 6.0 6.75 7.5 8.25 ...\n",
      "  * level      (level) int32 100 150 200 300 500 700\n",
      "  * time       (time) datetime64[ns] 1979-01-01 1979-02-01 1979-03-01 1979-04-01 ...\n",
      "    month      (time) int32 1 2 3 4 5 6 7 8 9 10 11 12 1 2 3 4 5 6 7 8 9 10 11 12 1 2 3 4 5 6 ...\n"
     ]
    }
   ],
   "source": [
    "print monthlyAnom.coords"
   ]
  },
  {
   "cell_type": "markdown",
   "metadata": {},
   "source": [
    "You can also easily \"resample\" the data, take averages of arbitrary periods..."
   ]
  },
  {
   "cell_type": "code",
   "execution_count": 27,
   "metadata": {
    "collapsed": false
   },
   "outputs": [],
   "source": [
    "quarterly = winds.resample('Q-SEP',dim='time')"
   ]
  },
  {
   "cell_type": "code",
   "execution_count": 29,
   "metadata": {
    "collapsed": false
   },
   "outputs": [
    {
     "data": {
      "text/plain": [
       "Coordinates:\n",
       "  * latitude   (latitude) float32 90.0 89.25 88.5 87.75 87.0 86.25 85.5 84.75 84.0 83.25 ...\n",
       "  * level      (level) int32 100 150 200 300 500 700\n",
       "  * longitude  (longitude) float32 0.0 0.75 1.5 2.25 3.0 3.75 4.5 5.25 6.0 6.75 7.5 8.25 ...\n",
       "  * time       (time) datetime64[ns] 1979-03-31 1979-06-30 1979-09-30 1979-12-31 ..."
      ]
     },
     "execution_count": 29,
     "metadata": {},
     "output_type": "execute_result"
    }
   ],
   "source": [
    "quarterly.coords"
   ]
  },
  {
   "cell_type": "markdown",
   "metadata": {},
   "source": [
    "And also easily calculate seasonal averages (season is defined as 3 months in xray)"
   ]
  },
  {
   "cell_type": "code",
   "execution_count": 32,
   "metadata": {
    "collapsed": false
   },
   "outputs": [
    {
     "name": "stdout",
     "output_type": "stream",
     "text": [
      "Coordinates:\n",
      "  * level      (level) int32 100 150 200 300 500 700\n",
      "  * season     (season) object 'DJF' 'JJA' 'MAM' 'SON'\n",
      "  * longitude  (longitude) float32 0.0 0.75 1.5 2.25 3.0 3.75 4.5 5.25 6.0 6.75 7.5 8.25 ...\n",
      "  * latitude   (latitude) float32 90.0 89.25 88.5 87.75 87.0 86.25 85.5 84.75 84.0 83.25 ... (4, 6, 241, 480)\n"
     ]
    }
   ],
   "source": [
    "seasonalMean = winds.groupby('time.season').mean(dim='time')\n",
    "print seasonalMean.coords, seasonalMean.shape"
   ]
  },
  {
   "cell_type": "code",
   "execution_count": 36,
   "metadata": {
    "collapsed": false
   },
   "outputs": [],
   "source": [
    "oneLevel = winds.sel(level=200)"
   ]
  },
  {
   "cell_type": "code",
   "execution_count": null,
   "metadata": {
    "collapsed": true
   },
   "outputs": [],
   "source": []
  }
 ],
 "metadata": {
  "kernelspec": {
   "display_name": "Python 2",
   "language": "python",
   "name": "python2"
  },
  "language_info": {
   "codemirror_mode": {
    "name": "ipython",
    "version": 2
   },
   "file_extension": ".py",
   "mimetype": "text/x-python",
   "name": "python",
   "nbconvert_exporter": "python",
   "pygments_lexer": "ipython2",
   "version": "2.7.6"
  }
 },
 "nbformat": 4,
 "nbformat_minor": 0
}
