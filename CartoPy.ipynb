{
 "cells": [
  {
   "cell_type": "markdown",
   "metadata": {
    "slideshow": {
     "slide_type": "slide"
    }
   },
   "source": [
    "## Cartopy\n",
    "\n",
    "* Sophisticated mapping library which integrates with *matplotlib*\n",
    "* Basic idea behind it is that a mapping library must take care of **projections**\n",
    "* Use instead of *basemap*"
   ]
  },
  {
   "cell_type": "markdown",
   "metadata": {
    "slideshow": {
     "slide_type": "slide"
    }
   },
   "source": [
    "Let us plot some data to get a feel for CartoPy (or Cartopy)"
   ]
  },
  {
   "cell_type": "code",
   "execution_count": 1,
   "metadata": {
    "collapsed": false,
    "slideshow": {
     "slide_type": "slide"
    }
   },
   "outputs": [],
   "source": [
    "import cartopy as cart\n",
    "import xray\n",
    "#import seaborn\n",
    "import matplotlib.pyplot as plt\n",
    "import numpy as np\n",
    "import matplotlib.ticker as mticker\n",
    "from cartopy.mpl.gridliner import LONGITUDE_FORMATTER, LATITUDE_FORMATTER\n",
    "\n",
    "#Read temperature data\n",
    "data = xray.open_dataset('/data/MonthlyFields/sst.nc')\n",
    "#Read some month's data\n",
    "temp = data.sst.sel(time='1980-1-1')\n",
    "\n",
    "lats = temp.lat.values\n",
    "lons = temp.lon.values\n",
    "x,y = np.meshgrid(lons,lats)"
   ]
  },
  {
   "cell_type": "code",
   "execution_count": 9,
   "metadata": {
    "collapsed": false,
    "slideshow": {
     "slide_type": "slide"
    }
   },
   "outputs": [
    {
     "data": {
      "text/plain": [
       "<matplotlib.contour.QuadContourSet instance at 0x7f777a2adc68>"
      ]
     },
     "execution_count": 9,
     "metadata": {},
     "output_type": "execute_result"
    },
    {
     "name": "stderr",
     "output_type": "stream",
     "text": [
      "WARNING:shapely.geos:Too few points in geometry component at or near point 0 0\n",
      "/usr/local/lib/python2.7/dist-packages/Cartopy-0.12.x-py2.7-linux-x86_64.egg/cartopy/mpl/feature_artist.py:105: UserWarning: Unable to determine extent. Defaulting to global.\n",
      "  warnings.warn('Unable to determine extent. Defaulting to global.')\n",
      "WARNING:shapely.geos:Too few points in geometry component at or near point 0 0\n"
     ]
    },
    {
     "data": {
      "image/png": "[encoded data removed]",
      "text/plain": [
       "<matplotlib.figure.Figure at 0x7f777a4db090>"
      ]
     },
     "metadata": {},
     "output_type": "display_data"
    }
   ],
   "source": [
    "%matplotlib inline\n",
    "#Setup figure projection\n",
    "figProj = cart.crs.Stereographic()\n",
    "dataProj = cart.crs.PlateCarree(central_longitude=0)\n",
    "ax = plt.subplot(projection=figProj)\n",
    "ax.coastlines()\n",
    "ax.contourf(lons, lats, temp,levels=np.linspace(0,30,16),cmap='ocean',transform=dataProj)\n",
    "\n",
    "#Set grid\n",
    "#gl = ax.gridlines(draw_labels=True)\n",
    "#gl.xlabels_top = False\n",
    "#gl.ylabels_left = False\n",
    "\n",
    "\n"
   ]
  },
  {
   "cell_type": "code",
   "execution_count": null,
   "metadata": {
    "collapsed": true
   },
   "outputs": [],
   "source": []
  }
 ],
 "metadata": {
  "celltoolbar": "Slideshow",
  "kernelspec": {
   "display_name": "Python 2",
   "language": "python",
   "name": "python2"
  },
  "language_info": {
   "codemirror_mode": {
    "name": "ipython",
    "version": 2
   },
   "file_extension": ".py",
   "mimetype": "text/x-python",
   "name": "python",
   "nbconvert_exporter": "python",
   "pygments_lexer": "ipython2",
   "version": "2.7.6"
  }
 },
 "nbformat": 4,
 "nbformat_minor": 0
}
