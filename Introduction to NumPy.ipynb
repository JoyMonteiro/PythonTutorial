{
 "cells": [
  {
   "cell_type": "markdown",
   "metadata": {},
   "source": [
    "# Working with NumPy\n",
    "\n",
    "---"
   ]
  },
  {
   "cell_type": "markdown",
   "metadata": {},
   "source": [
    "**NumPy** is Python's array library, which provides a \"language\" to interact with vector valued data. The first thing to understand is the variety of ways in which to access arrays."
   ]
  },
  {
   "cell_type": "code",
   "execution_count": 18,
   "metadata": {
    "collapsed": false
   },
   "outputs": [
    {
     "name": "stdout",
     "output_type": "stream",
     "text": [
      "traditional\n",
      "-0.623704829491\n",
      "[-0.62370483 -0.27627642  0.4731122   0.0576616   1.69698205]\n",
      "[-0.62370483  0.61109131]\n",
      "reverse\n",
      "[ 0.61631724 -0.61180654  0.61109131 -0.62370483]\n",
      "[ 0.08145014 -0.54503414  0.530185   -1.14183178]\n",
      "Logical\n",
      "[ 0.4731122   0.0576616   1.69698205  0.64768757  0.61109131  0.79147275\n",
      "  0.73767765  1.11018349  0.34026107  0.530185    0.913556    0.22588601\n",
      "  0.61631724  1.12722588  0.13512307  0.66123097  0.9003131   0.08145014]\n",
      "[-0.27627642  0.4731122  -0.69652959 -1.25744016 -1.14183178 -1.78244911\n",
      "  0.79147275  0.73767765 -1.0497299  -1.91792491  1.11018349  0.34026107\n",
      "  0.530185   -0.61180654 -0.7642491 ]\n",
      "[ 0.4731122  -1.25744016 -1.78244911  0.79147275  0.73767765 -1.0497299\n",
      " -1.91792491  0.34026107  0.530185   -0.61180654 -0.7642491 ]\n"
     ]
    }
   ],
   "source": [
    "from numpy import *\n",
    "import numpy as np\n",
    "\n",
    "a = np.random.randn(40)\n",
    "\n",
    "# traditional \n",
    "print \"traditional\"\n",
    "print a[0]\n",
    "print a[0:5] #starts from zero.\n",
    "\n",
    "print a[0:20:10]\n",
    "\n",
    "#reverse\n",
    "print \"reverse\"\n",
    "print a[30::-10]\n",
    "\n",
    "print a[::-10]\n",
    "\n",
    "# logical\n",
    "print \"Logical\"\n",
    "print a[a>0]\n",
    "\n",
    "b = np.random.randn(25)\n",
    "\n",
    "\n",
    "print a[(b-0.5)<0]\n",
    "print a[b<0]"
   ]
  },
  {
   "cell_type": "markdown",
   "metadata": {},
   "source": [
    "Arrays can be \"broadcast\" to multiply with higher dimensional arrays."
   ]
  },
  {
   "cell_type": "code",
   "execution_count": 26,
   "metadata": {
    "collapsed": false
   },
   "outputs": [
    {
     "name": "stdout",
     "output_type": "stream",
     "text": [
      "(10, 4)\n"
     ]
    }
   ],
   "source": [
    "\n",
    "\n",
    "a = a.reshape((10,-1))\n",
    "\n",
    "c = np.random.randn(10)\n",
    "\n",
    "d = a*c[:,newaxis] #Note multiplication is elementwise, not matrix multiplication\n",
    "print d.shape"
   ]
  }
 ],
 "metadata": {
  "kernelspec": {
   "display_name": "Python 2",
   "language": "python",
   "name": "python2"
  },
  "language_info": {
   "codemirror_mode": {
    "name": "ipython",
    "version": 2
   },
   "file_extension": ".py",
   "mimetype": "text/x-python",
   "name": "python",
   "nbconvert_exporter": "python",
   "pygments_lexer": "ipython2",
   "version": "2.7.6"
  }
 },
 "nbformat": 4,
 "nbformat_minor": 0
}
