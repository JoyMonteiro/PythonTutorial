{
 "cells": [
  {
   "cell_type": "markdown",
   "metadata": {},
   "source": [
    "#Installation\n",
    "---\n",
    "\n",
    "We will assume everyone is using a Linux system.\n",
    "Most of the below is relevant for Ubuntu (preferably the latest version)\n",
    "\n",
    "There are three ways of installing python and its relevant packages:\n",
    "\n",
    "* apt-get (or something similar)\n",
    "* pip (python's own installer)\n",
    "* github/bitbucket/etc., -- source code\n",
    "\n",
    "A lot of python packages for scientific computation are under heavy development\n",
    "and so using **pip** or __source code__ is recommended.\n",
    "\n",
    "##apt-get\n",
    "\n",
    "This is the easiest way, but sometimes you might only get older versions.\n",
    "Most important libraries such as __Numpy__ and __SciPy__ are best installed\n",
    "in this way.\n",
    "\n",
    "##pip\n",
    "\n",
    "Installation is very easy, just type\n",
    "\n",
    "    sudo pip install <package name>\n",
    "\n",
    "at the command prompt.\n",
    "\n",
    "###Note: please set your http_proxy and https_proxy variables to use any of the three options.\n",
    "\n",
    "##source code\n",
    "\n",
    "Fortunately, python packages can be quite easily installed even from source code.\n",
    "Most packages have a file called __setup.py__. Installation is normally as simple as \n",
    "executing\n",
    "    \n",
    "    sudo python setup.py install\n",
    "    \n",
    "at the command prompt."
   ]
  },
  {
   "cell_type": "markdown",
   "metadata": {},
   "source": [
    "#Tools to use for python development\n",
    "---\n",
    "\n",
    "##GOOD text editor (not notepad/gedit!)\n",
    "A good text editor takes care of many things like highlighting\n",
    "syntax, adding tab/space when necessary.\n",
    "Preferably use:\n",
    "\n",
    "* Vim\n",
    "* Emacs\n",
    "* Geany\n",
    "* Eclipse\n",
    "\n",
    "The last two are fully featured development environments.\n",
    "\n",
    "##IPython\n",
    "\n",
    "Interactive interface which makes developing code much easier.\n",
    "This session is a notebook version of IPython\n",
    "\n",
    "##Command line\n",
    "\n",
    "For running python scripts directly."
   ]
  },
  {
   "cell_type": "code",
   "execution_count": 1,
   "metadata": {
    "collapsed": false
   },
   "outputs": [
    {
     "name": "stdout",
     "output_type": "stream",
     "text": [
      "hello\n"
     ]
    }
   ],
   "source": [
    "print 'hello'"
   ]
  },
  {
   "cell_type": "code",
   "execution_count": null,
   "metadata": {
    "collapsed": true
   },
   "outputs": [],
   "source": []
  }
 ],
 "metadata": {
  "kernelspec": {
   "display_name": "Python 2",
   "language": "python",
   "name": "python2"
  },
  "language_info": {
   "codemirror_mode": {
    "name": "ipython",
    "version": 2
   },
   "file_extension": ".py",
   "mimetype": "text/x-python",
   "name": "python",
   "nbconvert_exporter": "python",
   "pygments_lexer": "ipython2",
   "version": "2.7.6"
  }
 },
 "nbformat": 4,
 "nbformat_minor": 0
}
