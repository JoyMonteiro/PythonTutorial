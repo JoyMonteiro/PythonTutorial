{
 "cells": [
  {
   "cell_type": "markdown",
   "metadata": {},
   "source": [
    "Python is being increasingly used in scientific computation and data analysis.\n",
    "There are a large number of such projects which use python as their primary language\n",
    "in the geophysical, astrophysical and statistics communities.\n",
    "\n",
    "** Add relevant links here **\n",
    "pyaos, uvcdat, iris, scipy, numpy, basemap, matplotlib, cartopy, xray, pandas...\n",
    "\n",
    "Advantages of using python over other languages like **C, Fortran**:\n",
    "\n",
    "* Dynamic Typing (Use Carefully!!)"
   ]
  },
  {
   "cell_type": "code",
   "execution_count": 1,
   "metadata": {
    "collapsed": false
   },
   "outputs": [
    {
     "name": "stdout",
     "output_type": "stream",
     "text": [
      "10\n",
      "test\n"
     ]
    }
   ],
   "source": [
    "a = 10;\n",
    "print a;\n",
    "\n",
    "a = 'test';\n",
    "print a;"
   ]
  },
  {
   "cell_type": "markdown",
   "metadata": {},
   "source": [
    "* Easy to use interfaces like IPython and Notebook (this file)\n",
    "* Many useful libraries available, mostly free"
   ]
  },
  {
   "cell_type": "code",
   "execution_count": 2,
   "metadata": {
    "collapsed": false
   },
   "outputs": [
    {
     "name": "stdout",
     "output_type": "stream",
     "text": [
      "0.516904750061\n"
     ]
    }
   ],
   "source": [
    "import numpy as np;\n",
    "\n",
    "print np.random.rand();"
   ]
  },
  {
   "cell_type": "markdown",
   "metadata": {},
   "source": [
    "* Syntax easy to understand (almost grammatical english!)"
   ]
  },
  {
   "cell_type": "code",
   "execution_count": 3,
   "metadata": {
    "collapsed": false
   },
   "outputs": [
    {
     "name": "stdout",
     "output_type": "stream",
     "text": [
      "[0, 1, 2, 3, 4, 5, 6, 7, 8, 9]\n"
     ]
    }
   ],
   "source": [
    "print [a for a in range(10)];"
   ]
  },
  {
   "cell_type": "code",
   "execution_count": 4,
   "metadata": {
    "collapsed": false
   },
   "outputs": [
    {
     "name": "stdout",
     "output_type": "stream",
     "text": [
      "True\n"
     ]
    }
   ],
   "source": [
    "print  5 in range(10);"
   ]
  },
  {
   "cell_type": "code",
   "execution_count": 5,
   "metadata": {
    "collapsed": false
   },
   "outputs": [
    {
     "name": "stdout",
     "output_type": "stream",
     "text": [
      "False\n"
     ]
    }
   ],
   "source": [
    "a = 10;\n",
    "print a is 20;"
   ]
  },
  {
   "cell_type": "code",
   "execution_count": 6,
   "metadata": {
    "collapsed": false
   },
   "outputs": [
    {
     "name": "stdout",
     "output_type": "stream",
     "text": [
      "True\n"
     ]
    }
   ],
   "source": [
    "print type(a) is int;"
   ]
  },
  {
   "cell_type": "code",
   "execution_count": 7,
   "metadata": {
    "collapsed": false
   },
   "outputs": [
    {
     "name": "stdout",
     "output_type": "stream",
     "text": [
      "nope\n"
     ]
    }
   ],
   "source": [
    "a = 'test';\n",
    "print 'yes' if a is not 'test' else 'nope';"
   ]
  },
  {
   "cell_type": "markdown",
   "metadata": {},
   "source": [
    "* Easily interfaces with Fortran and C code **(Cython, f2py)**\n",
    "* Etc etc.,"
   ]
  },
  {
   "cell_type": "markdown",
   "metadata": {},
   "source": [
    "#Data Types\n",
    "-----------\n",
    "Python has some (unfamiliar) data types which tend to be used very, **VERY** often.\n",
    "\n",
    "##Lists and tuples\n",
    "\n",
    "Tuples are constructed using \",\" (comma). They are of fixed length.\n",
    "\n",
    "Lists are also constructed using \",\" but they use square brackets.\n",
    "\n",
    "** Be careful about using certain names like 'list' and 'tuple', they are\n",
    "correspond to builtins**"
   ]
  },
  {
   "cell_type": "code",
   "execution_count": 8,
   "metadata": {
    "collapsed": false
   },
   "outputs": [
    {
     "name": "stdout",
     "output_type": "stream",
     "text": [
      "[1, 2.34, 'data', [2.0, 3, 'four']]\n",
      "<type 'list'>\n",
      "[1, 2.34, 'data', [2.0, 3, 'four'], 'lastVal']\n",
      "[1, 2.34, 'data', [2.0, 3, 'four'], 'lastVal', 'l', 'a', 's', 't']\n"
     ]
    }
   ],
   "source": [
    "List = [1, 2.34, 'data', [2., 3, 'four']];\n",
    "print List;\n",
    "print type(List);\n",
    "\n",
    "List.append(\"lastVal\");\n",
    "print List;\n",
    "\n",
    "List.extend(\"last\");\n",
    "print List;"
   ]
  },
  {
   "cell_type": "code",
   "execution_count": 9,
   "metadata": {
    "collapsed": false
   },
   "outputs": [
    {
     "name": "stdout",
     "output_type": "stream",
     "text": [
      "(2, 3, 'four')\n",
      "<type 'tuple'>\n",
      "1\n"
     ]
    }
   ],
   "source": [
    "Tuple = 2,3,\"four\";\n",
    "print Tuple;\n",
    "print type(Tuple);\n",
    "\n",
    "print Tuple.index(3);"
   ]
  },
  {
   "cell_type": "code",
   "execution_count": 10,
   "metadata": {
    "collapsed": false
   },
   "outputs": [],
   "source": [
    "?int"
   ]
  },
  {
   "cell_type": "markdown",
   "metadata": {},
   "source": [
    "## Dicts\n",
    "\n",
    "dicts contain key $\\to$ value pairs, and are useful for sending arguments\n",
    "\n",
    "Note: you can use $\\LaTeX$ in the text boxes. Useful for noting formulae\n",
    "while working.\n",
    "\n",
    "** \\$\\int_0^{2\\pi} \\sin\\theta d\\theta\\$ = $\\int_0^{2\\pi} \\sin\\theta d\\theta$ **"
   ]
  },
  {
   "cell_type": "code",
   "execution_count": 11,
   "metadata": {
    "collapsed": false
   },
   "outputs": [
    {
     "name": "stdout",
     "output_type": "stream",
     "text": [
      "<type 'dict'>\n",
      "{'three': 3, 'two': 2, 'one': 1}\n"
     ]
    }
   ],
   "source": [
    "keyVal = dict(one=1, two=2);\n",
    "print type(keyVal);\n",
    "\n",
    "keyVal['three'] = 3;\n",
    "\n",
    "print keyVal;"
   ]
  },
  {
   "cell_type": "markdown",
   "metadata": {},
   "source": [
    "Most arguments to functions in Python are sent as key $\\to$ value pairs.\n",
    "Eg.\n",
    "\n",
    "** calcArea(length=10, breadth=20); **\n"
   ]
  },
  {
   "cell_type": "markdown",
   "metadata": {},
   "source": [
    "\n",
    "# Flow control structures\n",
    "---\n",
    "## if-elif-else\n",
    "\n",
    "is the syntax, as opposed to the usual **if-else if-else**"
   ]
  },
  {
   "cell_type": "code",
   "execution_count": 12,
   "metadata": {
    "collapsed": false
   },
   "outputs": [
    {
     "name": "stdout",
     "output_type": "stream",
     "text": [
      "lesser than.\n"
     ]
    }
   ],
   "source": [
    "compareVal = 10;\n",
    "\n",
    "if compareVal == 15:    \n",
    " print 'equal to.'\n",
    "elif compareVal > 15:\n",
    "    print 'greater than.'\n",
    "else:\n",
    "    print 'lesser than.'\n",
    "    "
   ]
  },
  {
   "cell_type": "markdown",
   "metadata": {},
   "source": [
    "###Important\n",
    "\n",
    "Note that the line following *if*, *elif* and *else* statements is __indented__.\n",
    "\n",
    "__This is part of Python syntax, ignoring it will result in a compile error__.\n",
    "\n",
    "    if ... :\n",
    "    x = y #  no space at the beginning of the line. This is wrong\n",
    "\n",
    "vs.\n",
    "\n",
    "    if ... :\n",
    "      x = y # one or more spaces at the beginning. This will compile.\n",
    "\n",
    "\n",
    "\n",
    "The control statements are terminated by a \":\" (colon).\n",
    "Regular statements are terminated by a \";\" (semicolon). use of semicolon is optional,\n",
    "but highly encouraged to make your code understandable."
   ]
  },
  {
   "cell_type": "markdown",
   "metadata": {},
   "source": [
    "## for\n",
    "\n",
    "Unlike for-loops you are familiar with, Python iterates over __Lists or tuples__.\n",
    "So, if you want to loop over 10 numbers, create a list of 10 numbers and give it to __for__.\n",
    "\n",
    "Fortunately creating such lists is easy if we use the __range()__ function."
   ]
  },
  {
   "cell_type": "code",
   "execution_count": 13,
   "metadata": {
    "collapsed": false
   },
   "outputs": [
    {
     "name": "stdout",
     "output_type": "stream",
     "text": [
      "[0, 1, 2, 3, 4, 5, 6, 7, 8, 9]\n"
     ]
    }
   ],
   "source": [
    "print range(10);"
   ]
  },
  {
   "cell_type": "code",
   "execution_count": 14,
   "metadata": {
    "collapsed": false
   },
   "outputs": [
    {
     "name": "stdout",
     "output_type": "stream",
     "text": [
      "1970\n",
      "1971\n",
      "1972\n",
      "1973\n",
      "1974\n"
     ]
    }
   ],
   "source": [
    "test = range(1970,1975);\n",
    "for i in test:\n",
    "    print i;"
   ]
  },
  {
   "cell_type": "markdown",
   "metadata": {},
   "source": [
    "As usual, the list can contain any kind of elements."
   ]
  },
  {
   "cell_type": "code",
   "execution_count": 17,
   "metadata": {
    "collapsed": false
   },
   "outputs": [
    {
     "name": "stdout",
     "output_type": "stream",
     "text": [
      "True\n",
      "\n",
      "2\n",
      "True\n"
     ]
    }
   ],
   "source": [
    "myList = [1, 2.0, 'ttt', [0, 1.0, 'ttt'], 'ttt', 'ttt'];\n",
    "\n",
    "test2 = 'ttt';\n",
    "test3 = 'ttt';\n",
    "\n",
    "print test2 == test3;\n",
    "print \n",
    "\n",
    "\n",
    "print myList.index(test2);\n",
    "\n",
    "\n",
    "print 'ttt' in myList\n",
    "\n",
    "#for i in myList:\n",
    "#    print i;"
   ]
  },
  {
   "cell_type": "markdown",
   "metadata": {},
   "source": [
    "## While\n",
    "\n",
    "I rarely use this, but putting it in for completeness..."
   ]
  },
  {
   "cell_type": "code",
   "execution_count": 16,
   "metadata": {
    "collapsed": false
   },
   "outputs": [
    {
     "name": "stdout",
     "output_type": "stream",
     "text": [
      "10\n",
      "9\n",
      "8\n",
      "7\n",
      "6\n",
      "5\n",
      "4\n"
     ]
    }
   ],
   "source": [
    "i = 10;\n",
    "\n",
    "while i > 3:\n",
    "    print i;\n",
    "    i -= 1;"
   ]
  },
  {
   "cell_type": "markdown",
   "metadata": {},
   "source": [
    "###Please use brackets around the conditional to make it readable\n",
    "\n",
    "    while (i > 3):\n",
    "        ....\n",
    "        \n",
    "is far more understandable than\n",
    "\n",
    "    while i > 3:\n",
    "        ...."
   ]
  },
  {
   "cell_type": "code",
   "execution_count": null,
   "metadata": {
    "collapsed": true
   },
   "outputs": [],
   "source": []
  }
 ],
 "metadata": {
  "kernelspec": {
   "display_name": "Python 2",
   "language": "python",
   "name": "python2"
  },
  "language_info": {
   "codemirror_mode": {
    "name": "ipython",
    "version": 2
   },
   "file_extension": ".py",
   "mimetype": "text/x-python",
   "name": "python",
   "nbconvert_exporter": "python",
   "pygments_lexer": "ipython2",
   "version": "2.7.6"
  }
 },
 "nbformat": 4,
 "nbformat_minor": 0
}
