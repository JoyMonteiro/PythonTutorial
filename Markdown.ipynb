{
 "cells": [
  {
   "cell_type": "markdown",
   "metadata": {},
   "source": [
    "#Easily write notes with formatting using Markdown\n",
    "\n",
    "The markdown format uses some simple symbols and converts them to proper formatting.\n",
    "For example\n",
    "    # This is a heading\n",
    "becomes\n",
    "#This is a heading\n"
   ]
  },
  {
   "cell_type": "markdown",
   "metadata": {},
   "source": [
    "Adding more hashes before the text makes the heading smaller\n",
    "\n",
    "    ## This is small\n",
    "gives\n",
    "##This is small\n",
    "\n",
    "    ### ... but this is smaller\n",
    "gives\n",
    "### ... but this is smaller"
   ]
  },
  {
   "cell_type": "markdown",
   "metadata": {},
   "source": [
    "You add code/whatever you want highlighted by adding a tab before it\n",
    "\n",
    "This is without a tab\n",
    "    This is with a tab"
   ]
  },
  {
   "cell_type": "markdown",
   "metadata": {},
   "source": [
    "Adding an underscores before and after italicizes things\n",
    "\n",
    "    _This is italicized_ or even *this*\n",
    "    \n",
    "_This is italicized_ or even *this*\n",
    "\n",
    "add two, and it becomes bold!\n",
    "\n",
    "    __bold__ like **this**\n",
    "    \n",
    "__bold__ like **this**\n",
    "\n",
    "or mix both!\n",
    "\n",
    "    __*bold and italics*__\n",
    "    \n",
    "__*bold and italics*__"
   ]
  },
  {
   "cell_type": "markdown",
   "metadata": {},
   "source": [
    "Add an underline by simply putting 3 or more minuses in the beginning of a line below a heading\n",
    "\n",
    "    #This is a heading with an underline\n",
    "    ----\n",
    "    \n",
    "#This is a heading with an underline\n",
    "----\n",
    "\n",
    "\n",
    "---\n",
    "\n",
    "And this is just a random line\n",
    "\n",
    "\n",
    "---\n"
   ]
  },
  {
   "cell_type": "markdown",
   "metadata": {},
   "source": [
    "#Lists\n",
    "----\n",
    "\n",
    "You can make lists by simply adding a * on the first line. For numbered lists, use numbers!\n",
    "\n",
    "    * item 1\n",
    "    * item 2\n",
    "    \n",
    "* item 1\n",
    "* item 2\n",
    "\n",
    "        2. item 1\n",
    "          * subitem\n",
    "            * subsubitem\n",
    "        2. item 2\n",
    "        4. item 3\n",
    "    \n",
    "    \n",
    "1. item 1\n",
    "  * subitem\n",
    "    * subsubitem\n",
    "2. item 2\n",
    "4. item 3"
   ]
  },
  {
   "cell_type": "markdown",
   "metadata": {},
   "source": [
    "#Syntax highlighting and blocks\n",
    "---\n",
    "\n",
    "add code within a sentence by using backticks `like this`\n",
    "\n",
    "for syntax highlighting, use three backticks followed by language name, and end with three backticks:\n",
    "\n",
    "    ```python\n",
    "    def thisisafunc():\n",
    "        print 10\n",
    "    ```\n",
    "\n",
    "gives\n",
    "\n",
    "```python\n",
    "    def thisisafunc():\n",
    "        print 10\n",
    "```\n",
    "\n",
    "or\n",
    "    ```fortran\n",
    "    subroutine foo()\n",
    "        print *, 'test'\n",
    "    end subroutine\n",
    "    ```\n",
    "    \n",
    "```fortran\n",
    "    subroutine foo()\n",
    "        print *, 'test'\n",
    "    end subroutine\n",
    "```\n",
    "\n",
    "or\n",
    "    ```c\n",
    "    void main() {\n",
    "        printf(\"Hello World\");\n",
    "    }\n",
    "    ```\n",
    "\n",
    "```c\n",
    "    void main() {\n",
    "        printf(\"Hello World\");\n",
    "    }\n",
    "```\n",
    "\n",
    "Not specifying the language will not give syntax highlighting\n",
    "    ```\n",
    "    void main() {\n",
    "        printf(\"Hello World\");\n",
    "    }\n",
    "    ```\n",
    "\n",
    "```\n",
    "    void main() {\n",
    "        printf(\"Hello World\");\n",
    "    }\n",
    "```\n",
    "\n",
    "You can add quotes by using the greater than symbol:\n",
    "    > this is a quote\n",
    "    \n",
    "    while this is not\n",
    "    \n",
    "> this is a quote\n",
    "\n",
    "while this is not"
   ]
  },
  {
   "cell_type": "markdown",
   "metadata": {},
   "source": [
    "#Paragraphs and links\n",
    "---\n",
    "\n",
    "create a paragraph by leaving a line between sentences\n",
    "\n",
    "    ... Like this. If we don't leave a line,\n",
    "    It will be part of the same paragraph.\n",
    "\n",
    "... Like this. If we don't leave a line,\n",
    "It will be part of the same paragraph.\n",
    "\n",
    "Adding a link is really easy as well!\n",
    "\n",
    "    [Title](http://this.is.a.link.com)\n",
    "    \n",
    "[Title](http://this.is.a.link.com)\n",
    "\n",
    "or for a sensible example\n",
    "    \n",
    "    [Google](http://google.com)\n",
    "    \n",
    "[Google](http://google.com)"
   ]
  },
  {
   "cell_type": "markdown",
   "metadata": {
    "collapsed": true
   },
   "source": [
    "# $LaTeX$ is very easy too!\n",
    "\n",
    "Just add whatever latex command you want within dollar signs\n",
    "\n",
    "    $\\int_a^b f(x)dx$\n",
    "    \n",
    "becomes\n",
    "$\\int_a^b f(x)dx$"
   ]
  },
  {
   "cell_type": "code",
   "execution_count": null,
   "metadata": {
    "collapsed": true
   },
   "outputs": [],
   "source": []
  }
 ],
 "metadata": {
  "kernelspec": {
   "display_name": "Python 2",
   "language": "python",
   "name": "python2"
  },
  "language_info": {
   "codemirror_mode": {
    "name": "ipython",
    "version": 2
   },
   "file_extension": ".py",
   "mimetype": "text/x-python",
   "name": "python",
   "nbconvert_exporter": "python",
   "pygments_lexer": "ipython2",
   "version": "2.7.6"
  }
 },
 "nbformat": 4,
 "nbformat_minor": 0
}
