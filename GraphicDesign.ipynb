{
 "cells": [
  {
   "cell_type": "markdown",
   "metadata": {},
   "source": [
    "# Elements of a good figure\n",
    "----\n",
    "\n",
    "* Highlights exactly what is important\n",
    "* Various elements in the figure are distinct\n",
    "* Colours are not too \"fantastic\": RGB-CMYK conversion kills \"awesome\" colours\n",
    "* Labels visible but not obtrusive"
   ]
  },
  {
   "cell_type": "markdown",
   "metadata": {},
   "source": [
    "##Example\n",
    "\n",
    "Let us plot 500 mb temperature contours over SST filled contours and put in a\n",
    "quiver plot of 500 mb winds."
   ]
  },
  {
   "cell_type": "code",
   "execution_count": 1,
   "metadata": {
    "collapsed": false
   },
   "outputs": [
    {
     "name": "stdout",
     "output_type": "stream",
     "text": [
      "(241, 480) (241, 480) (241, 480) (89, 180)\n"
     ]
    }
   ],
   "source": [
    "import xray\n",
    "\n",
    "data = xray.open_dataset('/data/MonthlyFields/T.nc')\n",
    "temp = data.t.sel(time='1980-1-1',level=500)\n",
    "# Calculate zonal anomaly\n",
    "temp = temp - temp.mean(dim='longitude')\n",
    "\n",
    "data = xray.open_dataset('/data/MonthlyFields/uWinds.nc')\n",
    "u = data.u.sel(time='1980-1-1',level=500)\n",
    "# Calculate zonal anomaly\n",
    "u = u - u.mean(dim='longitude')\n",
    "\n",
    "data = xray.open_dataset('/data/MonthlyFields/VW.nc')\n",
    "v = data.v.sel(time='1980-1-1',level=500)\n",
    "# Calculate zonal anomaly\n",
    "v = v - v.mean(dim='longitude')\n",
    "\n",
    "data = xray.open_dataset('/data/MonthlyFields/sst.nc')\n",
    "sst = data.sst.sel(time='1980-1-1')\n",
    "\n",
    "print temp.shape, u.shape, v.shape, sst.shape"
   ]
  },
  {
   "cell_type": "code",
   "execution_count": 3,
   "metadata": {
    "collapsed": false
   },
   "outputs": [],
   "source": [
    "import matplotlib.pyplot as plt\n",
    "import cartopy as cart\n",
    "\n",
    "#plt.switch_backend('nbagg')\n",
    "\n",
    "figProj = cart.crs.PlateCarree(central_longitude=180)\n",
    "dataProj = cart.crs.PlateCarree(central_longitude=0)\n",
    "\n",
    "ax = plt.subplot(projection=figProj)\n",
    "ax.coastlines()\n",
    "ax.gridlines()\n",
    "ax.contourf(sst.lon, sst.lat, sst, cmap='coolwarm',transform=dataProj)\n",
    "\n",
    "ax.contour(temp.longitude, temp.latitude, temp, colors='k',transform=dataProj)\n",
    "\n",
    "ax.quiver(u.longitude, u.latitude, u.values,v.values,transform=dataProj)\n",
    "plt.show()"
   ]
  },
  {
   "cell_type": "markdown",
   "metadata": {},
   "source": [
    "**contourf** colours are 'dull' enough. But, obviously, there are too many quivers! send in the **regrid_shape** argument to quiver"
   ]
  },
  {
   "cell_type": "code",
   "execution_count": 4,
   "metadata": {
    "collapsed": false
   },
   "outputs": [
    {
     "name": "stderr",
     "output_type": "stream",
     "text": [
      "/usr/local/lib/python2.7/dist-packages/Cartopy-0.12.x-py2.7-linux-x86_64.egg/cartopy/vector_transform.py:131: UserWarning: Some vectors at source domain corners may not have been transformed correctly\n",
      "  u, v = target_proj.transform_vectors(src_crs, x, y, u, v)\n"
     ]
    }
   ],
   "source": [
    "#plt.switch_backend('nbagg')\n",
    "ax = plt.subplot(projection=figProj)\n",
    "ax.coastlines()\n",
    "ax.gridlines()\n",
    "ax.contourf(sst.lon, sst.lat, sst, cmap='coolwarm',transform=dataProj)\n",
    "\n",
    "ax.contour(temp.longitude, temp.latitude, temp, colors='k',transform=dataProj)\n",
    "\n",
    "ax.quiver(u.longitude, u.latitude, u.values,v.values,transform=dataProj,regrid_shape=20)\n",
    "plt.show()"
   ]
  },
  {
   "cell_type": "markdown",
   "metadata": {},
   "source": [
    "Grid lines have faded into the background, but coast lines and contour lines look very similar. So, make them distinct by making coast lines thinner and grey. Also, the quivers are too long, scale them."
   ]
  },
  {
   "cell_type": "code",
   "execution_count": 5,
   "metadata": {
    "collapsed": false
   },
   "outputs": [],
   "source": [
    "#plt.switch_backend('nbagg')\n",
    "ax = plt.subplot(projection=figProj)\n",
    "ax.coastlines(linewidth=0.5,color='grey')\n",
    "ax.gridlines()\n",
    "ax.contourf(sst.lon, sst.lat, sst, cmap='coolwarm',transform=dataProj)\n",
    "\n",
    "ax.contour(temp.longitude, temp.latitude, temp, colors='k',transform=dataProj)\n",
    "\n",
    "ax.quiver(u.longitude, u.latitude, u.values,v.values,transform=dataProj,regrid_shape=20, scale=300)\n",
    "plt.show()"
   ]
  },
  {
   "cell_type": "markdown",
   "metadata": {},
   "source": [
    "Not all contours are as important. Let us mark the zero temperature contour distinctly from the others. Also, increase number of contours"
   ]
  },
  {
   "cell_type": "code",
   "execution_count": 20,
   "metadata": {
    "collapsed": false
   },
   "outputs": [],
   "source": [
    "#plt.switch_backend('nbagg')\n",
    "ax = plt.subplot(projection=figProj)\n",
    "ax.coastlines(linewidth=0.5,color='grey')\n",
    "ax.gridlines()\n",
    "ax.contourf(sst.lon, sst.lat, sst, cmap='coolwarm',transform=dataProj)\n",
    "\n",
    "ax.contour(temp.longitude, temp.latitude, temp, 10, colors='k',transform=dataProj,linestyle='dotted')\n",
    "ax.contour(temp.longitude, temp.latitude, temp, [0], colors='k',transform=dataProj,linewidths=1.2)\n",
    "\n",
    "ax.quiver(u.longitude, u.latitude, u.values,v.values,transform=dataProj,regrid_shape=20, scale=350)\n",
    "plt.show()"
   ]
  },
  {
   "cell_type": "markdown",
   "metadata": {},
   "source": [
    "The wind vectors and temperature contours cannot be distinguished. Make the contours thinner than the quivers"
   ]
  },
  {
   "cell_type": "code",
   "execution_count": 31,
   "metadata": {
    "collapsed": false
   },
   "outputs": [],
   "source": [
    "import numpy as np\n",
    "#plt.switch_backend('nbagg')\n",
    "ax = plt.subplot(projection=figProj)\n",
    "ax.coastlines(linewidth=0.5,color='grey')\n",
    "ax.gridlines()\n",
    "ax.contourf(sst.lon, sst.lat, sst, cmap='coolwarm',transform=dataProj)\n",
    "\n",
    "ax.contour(temp.longitude, temp.latitude, temp, 10, colors='k',transform=dataProj,linewidths=0.8)\n",
    "ax.contour(temp.longitude, temp.latitude, temp, [0], colors='k',transform=dataProj,linewidths=1.2)\n",
    "\n",
    "ax.quiver(u.longitude, u.latitude, u.values,v.values,transform=dataProj,regrid_shape=20, scale=350)\n",
    "plt.show()"
   ]
  },
  {
   "cell_type": "markdown",
   "metadata": {},
   "source": [
    "Not a pretty picture, but everything is definitely distinct and no real confusion can occur. Finally, we can put a legend for the winds."
   ]
  },
  {
   "cell_type": "code",
   "execution_count": null,
   "metadata": {
    "collapsed": false
   },
   "outputs": [],
   "source": [
    "import numpy as np\n",
    "#plt.switch_backend('nbagg')\n",
    "ax = plt.subplot(projection=figProj)\n",
    "ax.coastlines(linewidth=0.5,color='grey')\n",
    "ax.gridlines()\n",
    "ax.contourf(sst.lon, sst.lat, sst, cmap='coolwarm',transform=dataProj)\n",
    "\n",
    "ax.contour(temp.longitude, temp.latitude, temp, 10, colors='k',transform=dataProj,linewidths=0.8)\n",
    "ax.contour(temp.longitude, temp.latitude, temp, [0], colors='k',transform=dataProj,linewidths=1.5)\n",
    "\n",
    "q = ax.quiver(u.longitude, u.latitude, u.values,v.values,transform=dataProj,regrid_shape=20, scale=350)\n",
    "ax.quiverkey(q, 0.95, -.1, 20, '20 m/s',labelpos='N')\n",
    "plt.show()"
   ]
  }
 ],
 "metadata": {
  "kernelspec": {
   "display_name": "Python 2",
   "language": "python",
   "name": "python2"
  },
  "language_info": {
   "codemirror_mode": {
    "name": "ipython",
    "version": 2
   },
   "file_extension": ".py",
   "mimetype": "text/x-python",
   "name": "python",
   "nbconvert_exporter": "python",
   "pygments_lexer": "ipython2",
   "version": "2.7.6"
  }
 },
 "nbformat": 4,
 "nbformat_minor": 0
}
