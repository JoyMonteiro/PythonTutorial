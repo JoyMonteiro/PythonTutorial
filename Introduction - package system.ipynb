{
 "cells": [
  {
   "cell_type": "markdown",
   "metadata": {},
   "source": [
    "#Managing your code/scripts\n",
    "---\n",
    "\n",
    "There are multiple ways to manage a large amount of code, and all of them\n",
    "revolve around organising your code into logical \"boxes\".\n",
    "\n",
    "Python allows for two ways to do this: Objects and packages (and a mixture of both).\n",
    "The main difference between the two is that packages are simply a collection\n",
    "of functions and data, whereas objects are \"active\" in the sense that they can maintain\n",
    "and modify their history.\n",
    "\n",
    "To illustrate, consider a file that has two functions: __area(len, wid)__ and __perimeter(len, wid)__.\n",
    "To calculate either, we need to give as input the length and width (of the appropriate\n",
    "rectangle, say).\n",
    "\n",
    "on the other hand, if we have an object called __Rectangle(len, width)__, which initially\n",
    "stores the length and width and is therefore an \"instance\" of a rectangle and not just a\n",
    "collection of functions. Then we can see what the area or perimeter of __this particular__\n",
    "rectangle is by simply calling __Rectangle.area()__ without any arguments since it already\n",
    "knows what its length and width is.\n",
    "\n",
    "Both these approaches have their use, and most Python packages use both."
   ]
  },
  {
   "cell_type": "markdown",
   "metadata": {},
   "source": [
    "##Packages\n",
    "\n",
    "As discussed above, packages help in keeping our code manageable.\n",
    "For example, we can keep at the functions to read data in one file,\n",
    "to analyse data in another file, and plot data in yet another file.\n",
    "\n",
    "Consider a file __xyz.py__ that has two functions and one variable:"
   ]
  },
  {
   "cell_type": "code",
   "execution_count": 8,
   "metadata": {
    "collapsed": false
   },
   "outputs": [
    {
     "name": "stdout",
     "output_type": "stream",
     "text": [
      "def func1():\r\n",
      "    print 'f1';\r\n",
      "    return;\r\n",
      "\r\n",
      "\r\n",
      "def func2():\r\n",
      "    print 'f2';\r\n",
      "    return;\r\n",
      "\r\n",
      "someVariable = 10;\r\n"
     ]
    }
   ],
   "source": [
    "cat xyz.py"
   ]
  },
  {
   "cell_type": "markdown",
   "metadata": {},
   "source": [
    "Note that we have used the shell command __cat__ to display the contents of the file. IPython\n",
    "supports many shell commands, including __ls__, __cd__ and __rm__. \n",
    "\n",
    "We can __cd__ into another directory where we keep other scripts and run them without exiting IPython."
   ]
  },
  {
   "cell_type": "markdown",
   "metadata": {},
   "source": [
    "We can use the functions and variables in __xyz.py__ by \"importing\" it."
   ]
  },
  {
   "cell_type": "code",
   "execution_count": 19,
   "metadata": {
    "collapsed": false
   },
   "outputs": [
    {
     "name": "stdout",
     "output_type": "stream",
     "text": [
      "10\n"
     ]
    }
   ],
   "source": [
    "import xyz;\n",
    "\n",
    "\n",
    "print xyz.someVariable;"
   ]
  },
  {
   "cell_type": "markdown",
   "metadata": {},
   "source": [
    "There are multiple ways that this can be done:"
   ]
  },
  {
   "cell_type": "code",
   "execution_count": 5,
   "metadata": {
    "collapsed": false
   },
   "outputs": [
    {
     "name": "stdout",
     "output_type": "stream",
     "text": [
      "f1\n",
      "another f1\n"
     ]
    }
   ],
   "source": [
    "import xyz as mod;\n",
    "import mno as mod2;\n",
    "\n",
    "mod.func1();\n",
    "mod2.func1();"
   ]
  },
  {
   "cell_type": "code",
   "execution_count": 22,
   "metadata": {
    "collapsed": false
   },
   "outputs": [
    {
     "name": "stdout",
     "output_type": "stream",
     "text": [
      "f2\n",
      "f1\n"
     ]
    }
   ],
   "source": [
    "from xyz import func1, func2;\n",
    "\n",
    "func2();\n",
    "func1();"
   ]
  },
  {
   "cell_type": "code",
   "execution_count": 23,
   "metadata": {
    "collapsed": false
   },
   "outputs": [
    {
     "name": "stdout",
     "output_type": "stream",
     "text": [
      "10\n"
     ]
    }
   ],
   "source": [
    "from xyz import *;\n",
    "\n",
    "print someVariable;"
   ]
  },
  {
   "cell_type": "markdown",
   "metadata": {},
   "source": [
    "The first and second versions are better, whereas the last two are more convenient but unsafe.\n",
    "\n",
    "If you already have a variable/function with the same name as in __xyz.py__, it will be overwritten."
   ]
  },
  {
   "cell_type": "markdown",
   "metadata": {},
   "source": [
    "##Special IPython commands\n",
    "\n",
    "Within IPython, you can also do the following:"
   ]
  },
  {
   "cell_type": "code",
   "execution_count": 24,
   "metadata": {
    "collapsed": false
   },
   "outputs": [],
   "source": [
    "%load runnable.py"
   ]
  },
  {
   "cell_type": "code",
   "execution_count": 25,
   "metadata": {
    "collapsed": false
   },
   "outputs": [
    {
     "name": "stdout",
     "output_type": "stream",
     "text": [
      "this is runnable code\n"
     ]
    }
   ],
   "source": [
    "print 'this is runnable code';\n"
   ]
  },
  {
   "cell_type": "code",
   "execution_count": 26,
   "metadata": {
    "collapsed": false
   },
   "outputs": [
    {
     "name": "stdout",
     "output_type": "stream",
     "text": [
      "this is runnable code\n"
     ]
    }
   ],
   "source": [
    "%run runnable.py"
   ]
  },
  {
   "cell_type": "code",
   "execution_count": 6,
   "metadata": {
    "collapsed": false
   },
   "outputs": [
    {
     "name": "stdout",
     "output_type": "stream",
     "text": [
      "this is runnable code\n",
      "this is runnable code\n",
      "this is runnable code\n",
      "this is runnable code\n",
      "this is runnable code\n",
      "this is runnable code\n",
      "this is runnable code\n",
      "this is runnable code\n",
      "this is runnable code\n",
      "this is runnable code\n",
      "this is runnable code\n",
      "this is runnable code\n",
      "this is runnable code\n",
      "this is runnable code\n",
      "this is runnable code\n",
      "this is runnable code\n",
      "this is runnable code\n",
      "this is runnable code\n",
      "this is runnable code\n",
      "this is runnable code\n",
      "this is runnable code\n",
      "this is runnable code\n",
      "this is runnable code\n",
      "this is runnable code\n",
      "this is runnable code\n",
      "this is runnable code\n",
      "this is runnable code\n",
      "this is runnable code\n",
      "this is runnable code\n",
      "this is runnable code\n",
      "The slowest run took 207.82 times longer than the fastest. This could mean that an intermediate result is being cached \n",
      "10 loops, best of 3: 153 µs per loop\n"
     ]
    }
   ],
   "source": [
    "%timeit -n 10 %run runnable.py"
   ]
  },
  {
   "cell_type": "markdown",
   "metadata": {},
   "source": [
    "__timeit__ is a convenient way to test the performance of your code."
   ]
  },
  {
   "cell_type": "code",
   "execution_count": null,
   "metadata": {
    "collapsed": false
   },
   "outputs": [],
   "source": []
  }
 ],
 "metadata": {
  "kernelspec": {
   "display_name": "Python 2",
   "language": "python",
   "name": "python2"
  },
  "language_info": {
   "codemirror_mode": {
    "name": "ipython",
    "version": 2
   },
   "file_extension": ".py",
   "mimetype": "text/x-python",
   "name": "python",
   "nbconvert_exporter": "python",
   "pygments_lexer": "ipython2",
   "version": "2.7.6"
  }
 },
 "nbformat": 4,
 "nbformat_minor": 0
}
